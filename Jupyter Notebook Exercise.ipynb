{
 "cells": [
  {
   "cell_type": "markdown",
   "id": "ac339ceb",
   "metadata": {},
   "source": [
    "# Jupyter Notebook Exercise"
   ]
  },
  {
   "cell_type": "markdown",
   "id": "0d38e5e6",
   "metadata": {},
   "source": [
    "## Introduction\n",
    "This is my Jupyter Notebook!"
   ]
  },
  {
   "cell_type": "markdown",
   "id": "28dc8636",
   "metadata": {},
   "source": [
    "## Data science languages:\n",
    "- Python\n",
    "- R\n",
    "- Julia\n",
    "- SQL\n",
    "- Scala\n",
    "- MATLAB"
   ]
  },
  {
   "cell_type": "markdown",
   "id": "e835dcc6",
   "metadata": {},
   "source": [
    "## Data Science Libraries\n",
    "\n",
    "### Python\n",
    "- Pandas\n",
    "- NumPy\n",
    "- Matplotlib\n",
    "- Seaborn\n",
    "- Scikit-learn\n",
    "- TensorFlow\n",
    "- PyTorch\n",
    "\n",
    "### R\n",
    "- dplyr\n",
    "- ggplot2\n",
    "- caret\n",
    "- tidyr\n",
    "- lubridate\n",
    "- xgboost\n",
    "\n",
    "### Julia\n",
    "- DataFrames\n",
    "- Plots\n",
    "- MLJ\n",
    "- Flux\n",
    "- Turing"
   ]
  },
  {
   "cell_type": "markdown",
   "id": "d577a015",
   "metadata": {},
   "source": [
    "## Data Science Tools\n",
    "\n",
    "| Category                    | Tools                                         |\n",
    "|-----------------------------|-----------------------------------------------|\n",
    "| Data Wrangling              | Pandas, dplyr, DataFrames                     |\n",
    "| Visualization               | Matplotlib, ggplot2, Seaborn, Plotly          |\n",
    "| Machine Learning            | Scikit-learn, TensorFlow, PyTorch, MLJ        |\n",
    "| Statistical Analysis        | NumPy, SciPy, StatsModels                     |\n",
    "| Big Data                    | Spark, Hadoop, Kafka                          |\n",
    "| Natural Language Processing | NLTK, spaCy, Gensim                           |\n",
    "| Database                    | SQL, SQLite, MongoDB                          |\n"
   ]
  },
  {
   "cell_type": "markdown",
   "id": "75bced13",
   "metadata": {},
   "source": [
    "## Arithmetic Expression Examples\n",
    "\n",
    "In data science and programming, arithmetic operations play a fundamental role in manipulating and analyzing data. Here are some common arithmetic operations:\n",
    "\n",
    "- **Addition (+)**: Adding numbers together, for example: `2 + 3 = 5`\n",
    "- **Subtraction (-)**: Finding the difference between numbers, for example: `5 - 2 = 3`\n",
    "- **Multiplication (*)**: Multiplying numbers, for example: `2 * 3 = 6`\n",
    "- **Division (/)**: Dividing numbers, for example: `6 / 2 = 3`\n",
    "- **Exponentiation (**)**: Raising a number to a power, for example: `2 ** 3 = 8`\n",
    "- **Modulo (%)**: Finding the remainder of a division, for example: `7 % 3 = 1`\n",
    "\n",
    "These operations are the building blocks for more complex computations in data science and programming."
   ]
  },
  {
   "cell_type": "code",
   "execution_count": 2,
   "id": "6b9b0c6b",
   "metadata": {},
   "outputs": [
    {
     "name": "stdout",
     "output_type": "stream",
     "text": [
      "1 + 1 = 2\n",
      "1 - 1 = 0\n"
     ]
    }
   ],
   "source": [
    "print(\"1 + 1 =\", 1+1)\n",
    "print(\"1 - 1 =\", 1-1)"
   ]
  },
  {
   "cell_type": "code",
   "execution_count": 3,
   "id": "9814497a",
   "metadata": {},
   "outputs": [
    {
     "name": "stdout",
     "output_type": "stream",
     "text": [
      "350 = 5.833333333333333 hours\n"
     ]
    }
   ],
   "source": [
    "minutes = 350\n",
    "print(minutes, \"=\", minutes/60, \"hours\")"
   ]
  },
  {
   "cell_type": "markdown",
   "id": "a298a67a",
   "metadata": {},
   "source": [
    "## Objectives\n",
    "\n",
    "This notebook aims to achieve the following:\n",
    "\n",
    "1. Introduce fundamental concepts in data science.\n",
    "2. Explore various data science languages and libraries.\n",
    "3. Demonstrate basic arithmetic operations and their significance in data manipulation.\n",
    "4. Showcase tools commonly used in data science workflows.\n",
    "5. Provide an overview of key techniques and methods in machine learning and data analysis.\n",
    "6. Share insights into real-world applications of data science.\n",
    "\n",
    "These objectives serve as a roadmap to guide the content and structure of this notebook.\n"
   ]
  },
  {
   "cell_type": "markdown",
   "id": "09b92d69",
   "metadata": {},
   "source": [
    "# Author\n",
    "https://github.com/vinhtnthe181432"
   ]
  },
  {
   "cell_type": "code",
   "execution_count": null,
   "id": "42423c0d",
   "metadata": {},
   "outputs": [],
   "source": []
  }
 ],
 "metadata": {
  "kernelspec": {
   "display_name": "Python 3 (ipykernel)",
   "language": "python",
   "name": "python3"
  },
  "language_info": {
   "codemirror_mode": {
    "name": "ipython",
    "version": 3
   },
   "file_extension": ".py",
   "mimetype": "text/x-python",
   "name": "python",
   "nbconvert_exporter": "python",
   "pygments_lexer": "ipython3",
   "version": "3.11.5"
  }
 },
 "nbformat": 4,
 "nbformat_minor": 5
}
